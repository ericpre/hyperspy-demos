{
 "cells": [
  {
   "cell_type": "markdown",
   "metadata": {},
   "source": [
    "# Getting started"
   ]
  },
  {
   "cell_type": "markdown",
   "metadata": {},
   "source": [
    "Requires **HyperSpy 1.4 or above**"
   ]
  },
  {
   "cell_type": "markdown",
   "metadata": {},
   "source": [
    "## Summary"
   ]
  },
  {
   "cell_type": "markdown",
   "metadata": {},
   "source": [
    "This tutorial shows how to load, save and visualise data with HyperSpy as well as other basic functionalities.\n",
    "\n",
    "Although not strictly required, some knowledge of Python can help with getting the most out of HyperSpy. If you are new to Python, the [official tutorial](https://docs.python.org/2/tutorial/index.html) is an excellent way to start.\n",
    "\n",
    "This tutorial can be enjoyed interactively thanks to the [Jupyter Notebook](http://jupyter.org) and [IPython](http://ipython.org). If you are not familiar with the Jupyter Notebook, having a look at the `Help` menu above and the [IPython documentation](http://ipython.readthedocs.io/en/stable/interactive/index.html) is highly recommended.\n",
    "\n",
    "To save this webpage as an interactively useable IPython notebook, click on the \"download\" icon at the top-right of the webpage and save the resulting code with the suffix \".ipynb\" (this should be proposed by default). If Hyperspy has been installed, the notebook can then be launched by double-clicking the saved file (Mac and Linux) or right-clicking the folder containing the file (Windows) and then clicking again on the notebook filename in the tab that will have opened in your browser. This will open another tab containing the interactive version of this page.\n",
    "\n",
    "Important note: in the Jupyter notebook, to execute a command or group of commands in a cell, place the cursor in the cell and press 'shift+return'."
   ]
  },
  {
   "cell_type": "markdown",
   "metadata": {},
   "source": [
    "### Credits and changes"
   ]
  },
  {
   "cell_type": "markdown",
   "metadata": {},
   "source": [
    "* 24/3/2018 Eric Prestat. Add GUIs and ROIs secions; change some comments.\n",
    "* 22/8/2016 Michael Walls. Include some more comments and explanations\n",
    "* 9/8/2016 Francisco de la Peña. Update it for HyperSpy 1.1\n",
    "* 27/7/2016 Francisco de la Peña. Update it for HyperSpy 1.0.1.\n",
    "* 6/3/2016 Francisco de la Peña. Adapted from previous tutorials for the SCANDEM workshop."
   ]
  },
  {
   "cell_type": "markdown",
   "metadata": {},
   "source": [
    "## Table of Contents"
   ]
  },
  {
   "cell_type": "markdown",
   "metadata": {},
   "source": [
    "1. [Importing HyperSpy](#1.-Importing-HyperSpy)\n",
    "2. [Getting help](#2.-Getting-help)\n",
    "3. [Structure overview](#3.-Structure-overview)\n",
    "4. [Loading data from a file](#4.-Loading-data-from-a-file)\n",
    "5. [Axis properties](#5.-Axis-properties)\n",
    "6. [GUIs](#6.-GUIs)\n",
    "7. [Visualisation](#7.-Visualisation)\n",
    "8. [Signal and navigation axes](#8.-Signal-and-navigation-axes)\n",
    "9. [Saving to file](#9.-Saving-to-file)\n",
    "10. [Indexing](#10.-Indexing)\n",
    "11. [Process with external function](#11.-Process-with-external-function)\n",
    "12. [Interactive operations](#12.-ROIs-and-interactive-operations)\n"
   ]
  },
  {
   "cell_type": "markdown",
   "metadata": {},
   "source": [
    "**IMPORTANT:** Before you start create/download the datasets executing the code in the [Appendix](#Appendix)."
   ]
  },
  {
   "cell_type": "markdown",
   "metadata": {},
   "source": [
    "## 1. Importing HyperSpy"
   ]
  },
  {
   "cell_type": "markdown",
   "metadata": {},
   "source": [
    "As any other Python library, to use HyperSpy first need to \"import\" it. The public HyperSpy API can be imported executing\n",
    "\n",
    "    import hyperspy.api as hs\n",
    "    \n",
    "However, in order to enable interactive plotting in IPython we need to activate the matplotlib \"backend\" first using the [%matplotlib IPython magic](http://ipython.readthedocs.io/en/stable/interactive/plotting.html).\n",
    "\n",
    "**NOTE:** A \"backend\" in this context refers to the code determining the way in which the plotted data will be displayed. In the online version of this document we use the `notebook` backend that displays interactive figures inside the Jupyter Notebook. Other backends, such as `qt` or `wx`, can be used."
   ]
  },
  {
   "cell_type": "code",
   "execution_count": null,
   "metadata": {
    "scrolled": true
   },
   "outputs": [],
   "source": [
    "# This is a Python comment line - anything after a hashtag is a non-executed comment\n",
    "# Import matplotlib and setting the backend; Use the %matplotlib IPython magic:\n",
    "\n"
   ]
  },
  {
   "cell_type": "code",
   "execution_count": null,
   "metadata": {},
   "outputs": [],
   "source": [
    "# You can replace 'notebook' with any other available toolkit e.g 'qt', 'tk', 'wx'...\n",
    "# Import hyperspy:\n"
   ]
  },
  {
   "cell_type": "markdown",
   "metadata": {},
   "source": [
    "## 2. Getting help"
   ]
  },
  {
   "cell_type": "markdown",
   "metadata": {},
   "source": [
    "HyperSpy documentation includes\n",
    "\n",
    "* The [Use Guide](http://hyperspy.org/hyperspy-doc/current/index.html)\n",
    "* The docstrings (see below)\n",
    "* The [demos](http://nbviewer.jupyter.org/github/hyperspy/hyperspy-demos/tree/master/) such as this one.\n",
    "\n",
    "\n",
    "### Docstrings\n",
    "\n",
    "In Python most objects include their own documentation  (docstring in Python jargon). In the Jupyter notebook you can consult the documentation interactively by:\n",
    "\n",
    "* Adding a question mark to the object, e.g. load?\n",
    "* If the object is a function or a method, by pressing the ``Shift + Tab`` keys after writing the first brackets, e.g. load (&lt;``Shift + Tab``>)\n"
   ]
  },
  {
   "cell_type": "markdown",
   "metadata": {},
   "source": [
    "All HyperSpy public objects are contained in the ``hs`` variable that we have imported above. Let's practice the different methods to access the docstrings by inspecting the ``hs`` doctring:"
   ]
  },
  {
   "cell_type": "code",
   "execution_count": null,
   "metadata": {},
   "outputs": [],
   "source": [
    "# Use the question mark to inspect the `hs` object:\n"
   ]
  },
  {
   "cell_type": "markdown",
   "metadata": {},
   "source": [
    "The `dir` function is very helpful to inspect the attributes of Python objects"
   ]
  },
  {
   "cell_type": "code",
   "execution_count": null,
   "metadata": {},
   "outputs": [],
   "source": [
    "# Use the dir function to inspect the attribute of the `hs` object:\n"
   ]
  },
  {
   "cell_type": "markdown",
   "metadata": {},
   "source": [
    "## 3. Structure overview"
   ]
  },
  {
   "cell_type": "markdown",
   "metadata": {},
   "source": [
    "HyperSpy provides (among other things):\n",
    "* A collection of \"signals\" which are specialised data containers with functions (methods in Python jargon) that operate on the data. They can be found in ``hs.signals``.\n",
    "* Functions that operate on the signals. For example ``hs.stack`` to stack signals and the several functions in ``hs.plot``.\n",
    "* A collection of \"model\" classes that generate models (usually for fitting) by linearly combining the components in ``hs.model.components``.\n",
    "* A database of chemical elements with EELS ionisation edges and X-ray lines in ``hs.material``.\n",
    "* Some example data in `hs.datasets`"
   ]
  },
  {
   "cell_type": "code",
   "execution_count": null,
   "metadata": {},
   "outputs": [],
   "source": [
    "# Inspect the attribute of hs.signals:\n"
   ]
  },
  {
   "cell_type": "markdown",
   "metadata": {},
   "source": [
    "To create a HyperSpy signal, just pass some data to one of the signals in ``hs.signals`` e.g."
   ]
  },
  {
   "cell_type": "code",
   "execution_count": null,
   "metadata": {},
   "outputs": [],
   "source": [
    "# Create a 1D signal named `ten` which contains integer values from one to ten:\n"
   ]
  },
  {
   "cell_type": "markdown",
   "metadata": {},
   "source": [
    "Now the `ten` variable contains a `Signal1D` instance."
   ]
  },
  {
   "cell_type": "markdown",
   "metadata": {},
   "source": [
    "Note that, thanks to [IPython](http://ipython.readthedocs.io/en/stable/interactive/tutorial.html#tab-completion), there is no need to type all the commands or paths manually—it is enough to write the first letters and press the `Tab` key."
   ]
  },
  {
   "cell_type": "code",
   "execution_count": null,
   "metadata": {},
   "outputs": [],
   "source": [
    "# Use Tab to use the autocompletion of the `ten`:\n"
   ]
  },
  {
   "cell_type": "markdown",
   "metadata": {},
   "source": [
    "Most of the operations that we can performs in the data are available inside this object, and can be accessed by writing a *dot* i.e. `.` after the name of the variable, pressing the ``Tab`` key and choosing an option from the list that appears. Alternatively, use the `dir` function to print them all."
   ]
  },
  {
   "cell_type": "code",
   "execution_count": null,
   "metadata": {},
   "outputs": [],
   "source": [
    "# Use Tab after `ten.` or the `dir` function to inspect all attribute (variables or operations) attached to `ten`:\n"
   ]
  },
  {
   "cell_type": "markdown",
   "metadata": {},
   "source": [
    "For example:"
   ]
  },
  {
   "cell_type": "code",
   "execution_count": null,
   "metadata": {},
   "outputs": [],
   "source": [
    "# Call the `print_summary_statistics` function of the `ten` object:\n"
   ]
  },
  {
   "cell_type": "markdown",
   "metadata": {},
   "source": [
    "### Very useful tip: \"Autocompletion\"\n",
    "\n",
    "In fact, long commands like the previous one can be entered more quickly using the ``tab`` key. Just enter the first few letters of the command, press ``tab`` and a list of the possible commands will appear. Navigate to the required command with the arrow keys (you still need the brackets at the end). If you are in interactive mode, try it in the cell below:"
   ]
  },
  {
   "cell_type": "code",
   "execution_count": null,
   "metadata": {},
   "outputs": [],
   "source": [
    "# Repeat the same as the previous cell but type only the frist few letter and use the autocompletion\n"
   ]
  },
  {
   "cell_type": "markdown",
   "metadata": {},
   "source": [
    "## 4. Loading data from a file"
   ]
  },
  {
   "cell_type": "markdown",
   "metadata": {},
   "source": [
    "More typically we load data from files using the `hs.load` function. The following code loads the ``CL1.hdf5`` file from the ``machine_learning`` folder and stores it in the `s` variable."
   ]
  },
  {
   "cell_type": "code",
   "execution_count": null,
   "metadata": {},
   "outputs": [],
   "source": [
    "# Load the `CL1.hdf5` file by passing the filename path to the `load` function, i.e. inside the brackets:\n",
    "s = hs.load(\"machine_learning/CL1.hdf5\")"
   ]
  },
  {
   "cell_type": "markdown",
   "metadata": {},
   "source": [
    "Let's check what is inside the `s` variable"
   ]
  },
  {
   "cell_type": "code",
   "execution_count": null,
   "metadata": {},
   "outputs": [],
   "source": [
    "s"
   ]
  },
  {
   "cell_type": "markdown",
   "metadata": {},
   "source": [
    "HyperSpy has loaded the data into an EELSSpectrum object that we have stored in the *s* variable. The symbol | separates the navigation dimensions *x*, *y* and the signal dimensions, in this case *energy loss*.\n"
   ]
  },
  {
   "cell_type": "markdown",
   "metadata": {},
   "source": [
    "The metadata read from the file is stored in the ``original_metadata`` attribute."
   ]
  },
  {
   "cell_type": "code",
   "execution_count": null,
   "metadata": {},
   "outputs": [],
   "source": [
    "# print the value the original metadata: \n"
   ]
  },
  {
   "cell_type": "markdown",
   "metadata": {},
   "source": [
    "Part of this information is also available in the ``metadata`` attribute. HyperSpy only uses internally the information in ``metadata``."
   ]
  },
  {
   "cell_type": "code",
   "execution_count": null,
   "metadata": {},
   "outputs": [],
   "source": [
    "# Print the value the metadata: \n"
   ]
  },
  {
   "cell_type": "markdown",
   "metadata": {},
   "source": [
    "The metadata can be easily modified:"
   ]
  },
  {
   "cell_type": "code",
   "execution_count": null,
   "metadata": {},
   "outputs": [],
   "source": [
    "# Set the convergence angle in the metadata to 10:\n"
   ]
  },
  {
   "cell_type": "code",
   "execution_count": null,
   "metadata": {},
   "outputs": [],
   "source": [
    "# Print again the value the metadata to check the metadata has been properly set: \n"
   ]
  },
  {
   "cell_type": "markdown",
   "metadata": {},
   "source": [
    "## 5. Axis properties"
   ]
  },
  {
   "cell_type": "markdown",
   "metadata": {},
   "source": [
    "The axes are stored in the `axes_manager` attribute:"
   ]
  },
  {
   "cell_type": "code",
   "execution_count": null,
   "metadata": {},
   "outputs": [],
   "source": [
    "# Print the `axes_manager`:\n"
   ]
  },
  {
   "cell_type": "markdown",
   "metadata": {},
   "source": [
    "The `AxesManager` can be indexed:"
   ]
  },
  {
   "cell_type": "code",
   "execution_count": null,
   "metadata": {},
   "outputs": [],
   "source": [
    "# Get the value the first index of the `axes_manager`:\n"
   ]
  },
  {
   "cell_type": "markdown",
   "metadata": {},
   "source": [
    "It is also possible to access the axes by name:"
   ]
  },
  {
   "cell_type": "code",
   "execution_count": null,
   "metadata": {},
   "outputs": [],
   "source": [
    "# Get the value the axis named `EnergyLoss` of the `axes_manager`:\n"
   ]
  },
  {
   "cell_type": "markdown",
   "metadata": {},
   "source": [
    "The axes have `offset`, `scale`, `units` and `name` attributes"
   ]
  },
  {
   "cell_type": "code",
   "execution_count": null,
   "metadata": {},
   "outputs": [],
   "source": [
    "# Get the scale of the energy axis:\n"
   ]
  },
  {
   "cell_type": "code",
   "execution_count": null,
   "metadata": {},
   "outputs": [],
   "source": [
    "# Get the units of the energy axis:\n"
   ]
  },
  {
   "cell_type": "markdown",
   "metadata": {},
   "source": [
    "## 6. GUIs"
   ]
  },
  {
   "cell_type": "markdown",
   "metadata": {},
   "source": [
    "HyperSpy can be used with two different GUIs:\n",
    "- traitsui GUI (requires the `hyperspy_gui_traitsui` package),\n",
    "- ipywidgets GUI (requires the `hyperspy_gui_ipywidgets` package).\n",
    "\n",
    "The traitsui GUI can be used in both the `jupyter notebook` and the `jupyter qtconsole`, while the ipywidgets can only be used in the `jupyter notebook` but doesn't required `pyqt` to be installed."
   ]
  },
  {
   "cell_type": "markdown",
   "metadata": {},
   "source": [
    "For example, the properties of the different axes can be set using the GUI of the `axes_manager`."
   ]
  },
  {
   "cell_type": "code",
   "execution_count": null,
   "metadata": {},
   "outputs": [],
   "source": [
    "# Call the `gui` method of the `axes_manager`:\n"
   ]
  },
  {
   "cell_type": "markdown",
   "metadata": {},
   "source": [
    "The interactive widgets appearing inside the notebook are the ipywidgets, while the dialogs poping up outside of the notebook are the traitsui GUI elements.\n",
    "Since both GUIs are equivalent, it is recommended to use one or the other and this option can be set in the GUIs tab of the HyperSpy preferences (`hs.preferences`):"
   ]
  },
  {
   "cell_type": "code",
   "execution_count": null,
   "metadata": {},
   "outputs": [],
   "source": [
    "# Call the `gui` method of the preferences (`preferences` is an attribute of the `hs` object) to diplay the GUI:\n"
   ]
  },
  {
   "cell_type": "markdown",
   "metadata": {},
   "source": [
    "In case no GUIs is enabled, the preference can be set manually: "
   ]
  },
  {
   "cell_type": "code",
   "execution_count": null,
   "metadata": {},
   "outputs": [],
   "source": [
    "hs.preferences.GUIs.enable_ipywidgets_gui = True\n",
    "hs.preferences.GUIs.enable_traitsui_gui = False"
   ]
  },
  {
   "cell_type": "markdown",
   "metadata": {},
   "source": [
    "## 7. Visualisation"
   ]
  },
  {
   "cell_type": "code",
   "execution_count": null,
   "metadata": {},
   "outputs": [],
   "source": [
    "# Plot\n"
   ]
  },
  {
   "cell_type": "markdown",
   "metadata": {},
   "source": [
    "### Moving around "
   ]
  },
  {
   "cell_type": "markdown",
   "metadata": {},
   "source": [
    "* Using the keyboard arrow keys\n",
    "* Using the pointer"
   ]
  },
  {
   "cell_type": "markdown",
   "metadata": {},
   "source": [
    "### Other shortcuts"
   ]
  },
  {
   "cell_type": "markdown",
   "metadata": {},
   "source": [
    "\n",
    "* Two pointers: enable/disable by pressing **e**\n",
    "* Adjust image contrast:  press **h**\n",
    "* Increase/decrease the pointer size: **+** and **-** keys (doesn't sum nor averaged over the navigation axes, this is only to move the pointer more easily)"
   ]
  },
  {
   "cell_type": "markdown",
   "metadata": {},
   "source": [
    "When using HyperSpy, it is common to have many open figures at a given time. The `close` [matplotlib](http://matplotlib.org) command is useful to close all the images at once, but, for that, first we have to import matplotlib:"
   ]
  },
  {
   "cell_type": "code",
   "execution_count": null,
   "metadata": {},
   "outputs": [],
   "source": [
    "# import matplotlib\n",
    "import matplotlib.pyplot as plt\n",
    "\n",
    "# Use the `close` matplotlib function to close all figure:\n"
   ]
  },
  {
   "cell_type": "markdown",
   "metadata": {},
   "source": [
    "## 8. Signal and navigation axes"
   ]
  },
  {
   "cell_type": "markdown",
   "metadata": {},
   "source": [
    "We can change the way in  which Hyperspy \"sees\" the data by converting the ``EELSSpectrum`` into a ``Signal2D`` object"
   ]
  },
  {
   "cell_type": "code",
   "execution_count": null,
   "metadata": {},
   "outputs": [],
   "source": [
    "# Use the `to_signal2D` to convert the `EELSSpectrum` to `Signal2D`, store the returned object to `im`:\n"
   ]
  },
  {
   "cell_type": "markdown",
   "metadata": {},
   "source": [
    "The ``im`` variable now contains a ``Signal2D`` object that shares the data with the ``EELSSpectrum`` object in ``s``."
   ]
  },
  {
   "cell_type": "code",
   "execution_count": null,
   "metadata": {},
   "outputs": [],
   "source": [
    "# Print what is `im`:\n"
   ]
  },
  {
   "cell_type": "markdown",
   "metadata": {},
   "source": [
    "Now we can visualize the same data in the \"energy filtered\" way"
   ]
  },
  {
   "cell_type": "code",
   "execution_count": null,
   "metadata": {},
   "outputs": [],
   "source": [
    "# Plot `im`:\n"
   ]
  },
  {
   "cell_type": "markdown",
   "metadata": {},
   "source": [
    "Similar operation can be performed using the `tranpose()` function or `T()` its shortcut:"
   ]
  },
  {
   "cell_type": "code",
   "execution_count": null,
   "metadata": {},
   "outputs": [],
   "source": [
    "print('s:', s)\n",
    "print('s.T:', s.T)"
   ]
  },
  {
   "cell_type": "code",
   "execution_count": null,
   "metadata": {},
   "outputs": [],
   "source": [
    "# use the `T` method to plot the `s` data in \"energy filtered\" way:\n"
   ]
  },
  {
   "cell_type": "markdown",
   "metadata": {},
   "source": [
    "Using the `transpose` (or `T`) function, the dataset dimensions can be interpreted as desired: either as signal or navigation axes. See the [transposing section](http://hyperspy.readthedocs.io/en/stable/user_guide/tools.html#transposing-changing-signal-spaces) to the user guide for more information."
   ]
  },
  {
   "cell_type": "markdown",
   "metadata": {},
   "source": [
    "## 9. Saving to file\n",
    "\n",
    "A signal can saved by calling its `save` method and passing the filename as first argument. "
   ]
  },
  {
   "cell_type": "code",
   "execution_count": null,
   "metadata": {},
   "outputs": [],
   "source": [
    "# Save the `im` signal:\n"
   ]
  },
  {
   "cell_type": "markdown",
   "metadata": {},
   "source": [
    "By default HyperSpy writes to the HDF5 file format.\n",
    "\n",
    "To save to another format you must specify the extension, e.g.:"
   ]
  },
  {
   "cell_type": "code",
   "execution_count": null,
   "metadata": {},
   "outputs": [],
   "source": [
    "# Save the 'im' signal as tif file:\n"
   ]
  },
  {
   "cell_type": "markdown",
   "metadata": {},
   "source": [
    "We can load it to verify that we do get back what we saved"
   ]
  },
  {
   "cell_type": "code",
   "execution_count": null,
   "metadata": {},
   "outputs": [],
   "source": [
    "# Load `im`:\n"
   ]
  },
  {
   "cell_type": "code",
   "execution_count": null,
   "metadata": {},
   "outputs": [],
   "source": [
    "# Plot `im`\n"
   ]
  },
  {
   "cell_type": "markdown",
   "metadata": {},
   "source": [
    "## 10. Indexing"
   ]
  },
  {
   "cell_type": "markdown",
   "metadata": {},
   "source": [
    "HyperSpy signals can be indexed using the `isig` and `inav` attributes. Indexing is a very powerful feature. To go beyond the basic examples here have a look at the [User Guide](http://hyperspy.org/hyperspy-doc/current/user_guide/tools.html#indexing)."
   ]
  },
  {
   "cell_type": "markdown",
   "metadata": {},
   "source": [
    "Firstly we'll load an RGB image"
   ]
  },
  {
   "cell_type": "code",
   "execution_count": null,
   "metadata": {},
   "outputs": [],
   "source": [
    "# Load the astronaut.hdf5 file and store it in `im`;\n"
   ]
  },
  {
   "cell_type": "markdown",
   "metadata": {},
   "source": [
    "Notice that the navigation dimension is 3 because there is one axis per colour channel."
   ]
  },
  {
   "cell_type": "code",
   "execution_count": null,
   "metadata": {
    "scrolled": false
   },
   "outputs": [],
   "source": [
    "# Print what is `im` to know what is the dimension of navigation and signal axis:\n"
   ]
  },
  {
   "cell_type": "code",
   "execution_count": null,
   "metadata": {},
   "outputs": [],
   "source": [
    "# Plot `im`:\n"
   ]
  },
  {
   "cell_type": "markdown",
   "metadata": {},
   "source": [
    "Let's plot the three channels:\n",
    "\n",
    "Note here that we can use the convenience function `hs.plot.plot_images` instead of the `plot` method of the `im` object."
   ]
  },
  {
   "cell_type": "code",
   "execution_count": null,
   "metadata": {},
   "outputs": [],
   "source": [
    "# Plot the three channel side by side using the `plot_images`:\n"
   ]
  },
  {
   "cell_type": "markdown",
   "metadata": {},
   "source": [
    "We can index the navigation axes using `inav`. For example, to obtain just the image in the first channel (R):"
   ]
  },
  {
   "cell_type": "code",
   "execution_count": null,
   "metadata": {},
   "outputs": [],
   "source": [
    "# Use the `inav` method to plot only the first channel:\n"
   ]
  },
  {
   "cell_type": "markdown",
   "metadata": {},
   "source": [
    "A range of incides can be obtained using the `:` between the first and the last indices wanted. If the first or the last index isn't provide, hyperspy will consider the first or the last, respectively"
   ]
  },
  {
   "cell_type": "code",
   "execution_count": null,
   "metadata": {},
   "outputs": [],
   "source": [
    "# Use the `plot_images` function to plot the two last channels:\n"
   ]
  },
  {
   "cell_type": "markdown",
   "metadata": {},
   "source": [
    "Negative indices are interpreted as counting from the end, so the following is an alternative syntax to obtain the last two channels:"
   ]
  },
  {
   "cell_type": "code",
   "execution_count": null,
   "metadata": {},
   "outputs": [],
   "source": [
    "# Use negative indices indexing to plot the two last channel:\n"
   ]
  },
  {
   "cell_type": "markdown",
   "metadata": {},
   "source": [
    "Equivalently, we can use `isig` to index the signal axes"
   ]
  },
  {
   "cell_type": "code",
   "execution_count": null,
   "metadata": {},
   "outputs": [],
   "source": [
    "# Plot a small portion of the image (for example 128 to -128 and 0 to -256):\n"
   ]
  },
  {
   "cell_type": "markdown",
   "metadata": {},
   "source": [
    "Like most other methods, `isig` and `inav` can be chained e.g.:"
   ]
  },
  {
   "cell_type": "code",
   "execution_count": null,
   "metadata": {},
   "outputs": [],
   "source": [
    "# Do the same as above with the first navigation index only:\n"
   ]
  },
  {
   "cell_type": "markdown",
   "metadata": {},
   "source": [
    "The image is calibrated in centimetres and the centre of the coordinates is located between the astronaut eyes:"
   ]
  },
  {
   "cell_type": "code",
   "execution_count": null,
   "metadata": {},
   "outputs": [],
   "source": [
    "im.plot(axes_ticks=True)\n",
    "im.add_marker(hs.plot.markers.point(0, 0)) # Add a \"point\" marker at the position (0, 0)"
   ]
  },
  {
   "cell_type": "markdown",
   "metadata": {},
   "source": [
    "HyperSpy signals allow indexing using float numbers to index using the axes calibration instead of data index. For example:"
   ]
  },
  {
   "cell_type": "code",
   "execution_count": null,
   "metadata": {},
   "outputs": [],
   "source": [
    "# Use float indexing to plot a small portion of the image (for example, -5 to -5 and -2 to 2):\n"
   ]
  },
  {
   "cell_type": "markdown",
   "metadata": {},
   "source": [
    "## 11. Process with external function"
   ]
  },
  {
   "cell_type": "markdown",
   "metadata": {},
   "source": [
    "The HyperSpy signals contain a number of methods that operate on their data. However, we often need to operate on the data using external functions. HyperSpy provides the `map` method to make it easy to apply external functions to multi-dimensional datasets."
   ]
  },
  {
   "cell_type": "markdown",
   "metadata": {},
   "source": [
    "We will use the previous RGB image to show how to apply the `rotate` function from `scipy.ndimage` to an RGB image. Lets import `rotate` and load the image:"
   ]
  },
  {
   "cell_type": "code",
   "execution_count": null,
   "metadata": {},
   "outputs": [],
   "source": [
    "from scipy.ndimage import rotate\n",
    "im = hs.load(\"astronaut.hspy\")\n",
    "im"
   ]
  },
  {
   "cell_type": "markdown",
   "metadata": {},
   "source": [
    "Same as above, this image navigation size is 3 because the navigation axis corresponds to the 3 color channels, R, G and B.\n",
    "\n",
    "`rotate` can operate on multidimensional images, but the rotation angle must be the same for all images. With HyperSpy we can easily specify the rotation angle for each image by creating a signal of the same navigation dimensions as `im` containing the rotation angle:"
   ]
  },
  {
   "cell_type": "code",
   "execution_count": null,
   "metadata": {},
   "outputs": [],
   "source": [
    "angles = hs.signals.BaseSignal([-15, 0, 15])\n",
    "angles"
   ]
  },
  {
   "cell_type": "markdown",
   "metadata": {},
   "source": [
    "`angles` has the right size, but we need to swap the signal and navigation axes. We can do this using `transpose`:"
   ]
  },
  {
   "cell_type": "code",
   "execution_count": null,
   "metadata": {},
   "outputs": [],
   "source": [
    "# Tranpose the data:\n"
   ]
  },
  {
   "cell_type": "markdown",
   "metadata": {},
   "source": [
    "When no arguments are passed to transpose (as in this case) we can use the `T` shortcut instead:"
   ]
  },
  {
   "cell_type": "code",
   "execution_count": null,
   "metadata": {},
   "outputs": [],
   "source": [
    "# Same as above using the `T` shortcut:\n"
   ]
  },
  {
   "cell_type": "markdown",
   "metadata": {},
   "source": [
    "The following uses the `map` method to rotate each color channel by a different angle using SciPy's `rotate` function:"
   ]
  },
  {
   "cell_type": "code",
   "execution_count": null,
   "metadata": {},
   "outputs": [],
   "source": [
    "# Use the `map` method to rotate the each channels using angles:\n",
    "# Hint: check the documentation of the `rotate` function to check what parameters need to be pass to `map`. \n"
   ]
  },
  {
   "cell_type": "code",
   "execution_count": null,
   "metadata": {},
   "outputs": [],
   "source": [
    "# Plot `im`:\n",
    "hs.plot.plot_images(im, label=[\"R\", \"G\", \"B\"], axes_decor=\"off\", colorbar=\"single\")"
   ]
  },
  {
   "cell_type": "code",
   "execution_count": null,
   "metadata": {},
   "outputs": [],
   "source": [
    "# Convert `im` to a signal1D and store the results to `im_rgb`:\n",
    "# Hint: find the corresponding function by inspecting the method of `im`.\n"
   ]
  },
  {
   "cell_type": "markdown",
   "metadata": {},
   "source": [
    "To display the result in colour we need to change the data type to `rgb8`:"
   ]
  },
  {
   "cell_type": "code",
   "execution_count": null,
   "metadata": {},
   "outputs": [],
   "source": [
    "# Change `im` to rgb8:\n"
   ]
  },
  {
   "cell_type": "markdown",
   "metadata": {},
   "source": [
    "Notice that now there are no navigation axes:"
   ]
  },
  {
   "cell_type": "code",
   "execution_count": null,
   "metadata": {},
   "outputs": [],
   "source": [
    "# Check the shape of `im` converted to rgb\n"
   ]
  },
  {
   "cell_type": "markdown",
   "metadata": {},
   "source": [
    "## 12. ROIs and interactive operations"
   ]
  },
  {
   "cell_type": "code",
   "execution_count": null,
   "metadata": {},
   "outputs": [],
   "source": [
    "# Restart kernel and the qt instead of the notebook backend, since the responsivenes is better with qt:\n",
    "%matplotlib qt\n",
    "import hyperspy.api as hs"
   ]
  },
  {
   "cell_type": "markdown",
   "metadata": {},
   "source": [
    "A number of different region of interests (ROI) are available, which are available in `hs.roi`"
   ]
  },
  {
   "cell_type": "code",
   "execution_count": null,
   "metadata": {},
   "outputs": [],
   "source": [
    "# List all ROIs available:\n",
    "dir(hs.roi)"
   ]
  },
  {
   "cell_type": "code",
   "execution_count": null,
   "metadata": {},
   "outputs": [],
   "source": [
    "# Load the astronaut image\n",
    "im = hs.load(\"astronaut.hspy\")\n",
    "im = im.sum(axis=0) # sum over RGB channels\n",
    "im # check what is `im`"
   ]
  },
  {
   "cell_type": "code",
   "execution_count": 27,
   "metadata": {},
   "outputs": [],
   "source": [
    "# Create a rectangular roi using `RectangularROI` and store it in `roi2D`:\n"
   ]
  },
  {
   "cell_type": "markdown",
   "metadata": {},
   "source": [
    "The function `interactive` ease the task of defining operations that are automatically updated when an event is triggered. By default it recomputes the operation when data or the axes of the original signal changes."
   ]
  },
  {
   "cell_type": "code",
   "execution_count": 32,
   "metadata": {},
   "outputs": [],
   "source": [
    "# Plot `im`:\n",
    "\n",
    "# Add `rectangular_roi` to the plot of `im` by calling the `interactive` method of `roi2D`:\n"
   ]
  },
  {
   "cell_type": "code",
   "execution_count": 26,
   "metadata": {},
   "outputs": [],
   "source": [
    "# Plot roi2D:\n"
   ]
  },
  {
   "cell_type": "markdown",
   "metadata": {},
   "source": [
    "As all interactive operations, interactive ROIs are chainable. The following example shows how to display interactively the histogram of a rectangular ROI using the `get_histogram` method."
   ]
  },
  {
   "cell_type": "code",
   "execution_count": 33,
   "metadata": {},
   "outputs": [],
   "source": [
    "# Use the 'hs.interactive' function to interactively compute the histogram using the `get_histogram` method of roi2D\n",
    "# and store the results in 'roi_hist':\n",
    "\n",
    "# Plot `roi_hist`\n"
   ]
  },
  {
   "cell_type": "markdown",
   "metadata": {},
   "source": [
    "The default event connections can be tweaked in order to increase responsivenes:"
   ]
  },
  {
   "cell_type": "code",
   "execution_count": 30,
   "metadata": {},
   "outputs": [],
   "source": [
    "# Same as above but with `recompute_out_event=None`:\n"
   ]
  },
  {
   "cell_type": "markdown",
   "metadata": {
    "collapsed": true
   },
   "source": [
    "## Appendix"
   ]
  },
  {
   "cell_type": "markdown",
   "metadata": {},
   "source": [
    "### Create astronaut file for indexing example"
   ]
  },
  {
   "cell_type": "code",
   "execution_count": null,
   "metadata": {},
   "outputs": [],
   "source": [
    "import hyperspy.api as hs\n",
    "from skimage.data import astronaut\n",
    "s = hs.signals.Signal1D(astronaut())\n",
    "\n",
    "# Calibrate the image\n",
    "s.axes_manager[0].name = \"width\"\n",
    "s.axes_manager[0].scale = 0.13\n",
    "s.axes_manager[0].offset = -29.2\n",
    "s.axes_manager[0].units = \"cm\"\n",
    "\n",
    "s.axes_manager[1].name = \"height\"\n",
    "s.axes_manager[1].scale = 0.13\n",
    "s.axes_manager[1].offset = -12.9\n",
    "s.axes_manager[1].units = \"cm\"\n",
    "\n",
    "s.axes_manager[2].name = \"RGB\"\n",
    "s.to_signal2D().save(\"astronaut.hspy\")"
   ]
  },
  {
   "cell_type": "markdown",
   "metadata": {},
   "source": [
    "### Download and unpack the machine learning example data"
   ]
  },
  {
   "cell_type": "code",
   "execution_count": null,
   "metadata": {},
   "outputs": [],
   "source": [
    "from urllib.request import urlretrieve, urlopen\n",
    "from zipfile import ZipFile\n",
    "files = urlretrieve(\"https://www.dropbox.com/s/dt6bc3dtg373ahw/machine_learning.zip?raw=1\", \"./machine_learning.zip\")\n",
    "\n",
    "with ZipFile(\"machine_learning.zip\") as z:\n",
    "    z.extractall()"
   ]
  }
 ],
 "metadata": {
  "kernelspec": {
   "display_name": "Python 3",
   "language": "python",
   "name": "python3"
  },
  "language_info": {
   "codemirror_mode": {
    "name": "ipython",
    "version": 3
   },
   "file_extension": ".py",
   "mimetype": "text/x-python",
   "name": "python",
   "nbconvert_exporter": "python",
   "pygments_lexer": "ipython3",
   "version": "3.6.3"
  }
 },
 "nbformat": 4,
 "nbformat_minor": 1
}
